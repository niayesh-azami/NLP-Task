{
 "cells": [
  {
   "cell_type": "code",
   "execution_count": null,
   "id": "3b02a7e3-9f59-406b-93b1-00f09be0416f",
   "metadata": {},
   "outputs": [],
   "source": []
  }
 ],
 "metadata": {
  "kernelspec": {
   "display_name": "",
   "name": ""
  },
  "language_info": {
   "name": ""
  }
 },
 "nbformat": 4,
 "nbformat_minor": 5
}
